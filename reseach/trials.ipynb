{
 "cells": [
  {
   "cell_type": "code",
   "execution_count": 1,
   "metadata": {},
   "outputs": [],
   "source": [
    "import gdown"
   ]
  },
  {
   "cell_type": "code",
   "execution_count": 7,
   "metadata": {},
   "outputs": [],
   "source": [
    "import os"
   ]
  },
  {
   "cell_type": "code",
   "execution_count": 8,
   "metadata": {},
   "outputs": [],
   "source": [
    "os.chdir('../')"
   ]
  },
  {
   "cell_type": "code",
   "execution_count": 2,
   "metadata": {},
   "outputs": [],
   "source": [
    "url = 'https://drive.google.com/file/d/1ZyEr_jNoXbVrvtwT5IfsNd-S9kwl0vHY/view?usp=sharing'\n"
   ]
  },
  {
   "cell_type": "code",
   "execution_count": 4,
   "metadata": {},
   "outputs": [
    {
     "data": {
      "text/plain": [
       "'1ZyEr_jNoXbVrvtwT5IfsNd-S9kwl0vHY'"
      ]
     },
     "execution_count": 4,
     "metadata": {},
     "output_type": "execute_result"
    }
   ],
   "source": [
    "file_id = url.split('/')[-2]\n",
    "file_id"
   ]
  },
  {
   "cell_type": "code",
   "execution_count": 10,
   "metadata": {},
   "outputs": [
    {
     "name": "stderr",
     "output_type": "stream",
     "text": [
      "Downloading...\n",
      "From (uriginal): https://drive.google.com/uc?/export=download&id=1ZyEr_jNoXbVrvtwT5IfsNd-S9kwl0vHY\n",
      "From (redirected): https://drive.google.com/uc?/export=download&id=1ZyEr_jNoXbVrvtwT5IfsNd-S9kwl0vHY&confirm=t&uuid=7554a037-fadf-417c-a016-cf8e3e18678d\n",
      "To: f:\\artificial intelegnce\\study\\ML End To End Projects Krish Naik\\github\\End-to-end-Waste-Detection-Using-Yolo-v5\\data\\waste_data.zip\n",
      "100%|██████████| 40.1M/40.1M [00:11<00:00, 3.46MB/s]\n"
     ]
    },
    {
     "data": {
      "text/plain": [
       "'data/waste_data.zip'"
      ]
     },
     "execution_count": 10,
     "metadata": {},
     "output_type": "execute_result"
    }
   ],
   "source": [
    "prefix = 'https://drive.google.com/uc?/export=download&id='\n",
    "gdown.download(prefix+file_id,'data/waste_data.zip')"
   ]
  },
  {
   "cell_type": "code",
   "execution_count": 9,
   "metadata": {},
   "outputs": [
    {
     "data": {
      "text/plain": [
       "'f:\\\\artificial intelegnce\\\\study\\\\ML End To End Projects Krish Naik\\\\github\\\\End-to-end-Waste-Detection-Using-Yolo-v5'"
      ]
     },
     "execution_count": 9,
     "metadata": {},
     "output_type": "execute_result"
    }
   ],
   "source": [
    "%pwd"
   ]
  }
 ],
 "metadata": {
  "kernelspec": {
   "display_name": "waste",
   "language": "python",
   "name": "python3"
  },
  "language_info": {
   "codemirror_mode": {
    "name": "ipython",
    "version": 3
   },
   "file_extension": ".py",
   "mimetype": "text/x-python",
   "name": "python",
   "nbconvert_exporter": "python",
   "pygments_lexer": "ipython3",
   "version": "3.7.16"
  },
  "orig_nbformat": 4
 },
 "nbformat": 4,
 "nbformat_minor": 2
}
